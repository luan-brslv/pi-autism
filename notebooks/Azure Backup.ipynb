{
 "cells": [
  {
   "cell_type": "code",
   "execution_count": 1,
   "id": "b1bd73c3",
   "metadata": {},
   "outputs": [],
   "source": [
    "from pyspark import SparkConf\n",
    "from pyspark.sql import SparkSession\n",
    "from pyspark.sql import functions as f\n",
    "from datetime import datetime"
   ]
  },
  {
   "cell_type": "code",
   "execution_count": 2,
   "id": "20fb474b",
   "metadata": {},
   "outputs": [
    {
     "data": {
      "text/plain": [
       "<pyspark.conf.SparkConf at 0x7f01b0272f90>"
      ]
     },
     "execution_count": 2,
     "metadata": {},
     "output_type": "execute_result"
    }
   ],
   "source": [
    "conf = SparkConf()\n",
    "pck = ['org.apache.hadoop:hadoop-aws:3.2.2', 'com.azure:azure-storage-blob:12.19.1',\n",
    "        'org.apache.hadoop:hadoop-azure:3.3.4'\n",
    "]\n",
    "conf.set('spark.jars.packages', ','.join(pck))\n",
    "conf.set('spark.hadoop.fs.s3a.aws.credentials.provider', 'com.amazonaws.auth.InstanceProfileCredentialsProvider')\n",
    "\n",
    "conf.set('fs.azure.account.auth.type.projetopibackup.blob.core.windows.net', 'SharedKey')\n",
    "conf.set('fs.azure.account.key.projetopibackup.blob.core.windows.net', \n",
    "         '+fwiwB9YqC42M6XF4uEbInkHQWxE12x68KNoN62KTmIIn8NuUwvJO0/5aRxU1KnZgRrn8WNFc1nV+ASt+j+23g==')\n",
    "\n",
    "conf.set('spark.sql.sources.partitionOverwriteMode', 'dynamic')"
   ]
  },
  {
   "cell_type": "code",
   "execution_count": 3,
   "id": "c8396936",
   "metadata": {},
   "outputs": [
    {
     "name": "stderr",
     "output_type": "stream",
     "text": [
      "Warning: Ignoring non-Spark config property: fs.azure.account.key.projetopibackup.blob.core.windows.net\n",
      "Warning: Ignoring non-Spark config property: fs.azure.account.auth.type.projetopibackup.blob.core.windows.net\n"
     ]
    },
    {
     "name": "stdout",
     "output_type": "stream",
     "text": [
      ":: loading settings :: url = jar:file:/usr/local/lib/python3.7/site-packages/pyspark/jars/ivy-2.5.0.jar!/org/apache/ivy/core/settings/ivysettings.xml\n"
     ]
    },
    {
     "name": "stderr",
     "output_type": "stream",
     "text": [
      "Ivy Default Cache set to: /root/.ivy2/cache\n",
      "The jars for the packages stored in: /root/.ivy2/jars\n",
      "org.apache.hadoop#hadoop-aws added as a dependency\n",
      "com.azure#azure-storage-blob added as a dependency\n",
      "org.apache.hadoop#hadoop-azure added as a dependency\n",
      ":: resolving dependencies :: org.apache.spark#spark-submit-parent-c7869523-a250-448a-bf6b-68aa42df9c23;1.0\n",
      "\tconfs: [default]\n",
      "\tfound org.apache.hadoop#hadoop-aws;3.2.2 in central\n",
      "\tfound com.amazonaws#aws-java-sdk-bundle;1.11.563 in central\n",
      "\tfound com.azure#azure-storage-blob;12.19.1 in central\n",
      "\tfound com.azure#azure-core;1.32.0 in central\n",
      "\tfound com.fasterxml.jackson.core#jackson-annotations;2.13.3 in central\n",
      "\tfound com.fasterxml.jackson.core#jackson-core;2.13.3 in central\n",
      "\tfound com.fasterxml.jackson.core#jackson-databind;2.13.3 in central\n",
      "\tfound com.fasterxml.jackson.datatype#jackson-datatype-jsr310;2.13.3 in central\n",
      "\tfound com.fasterxml.jackson.dataformat#jackson-dataformat-xml;2.13.3 in central\n",
      "\tfound org.codehaus.woodstox#stax2-api;4.2.1 in central\n",
      "\tfound com.fasterxml.woodstox#woodstox-core;6.2.7 in central\n",
      "\tfound org.slf4j#slf4j-api;1.7.36 in central\n",
      "\tfound io.projectreactor#reactor-core;3.4.22 in central\n",
      "\tfound org.reactivestreams#reactive-streams;1.0.4 in central\n",
      "\tfound com.azure#azure-core-http-netty;1.12.5 in central\n",
      "\tfound io.netty#netty-handler;4.1.79.Final in central\n",
      "\tfound io.netty#netty-common;4.1.79.Final in central\n",
      "\tfound io.netty#netty-resolver;4.1.79.Final in central\n",
      "\tfound io.netty#netty-buffer;4.1.79.Final in central\n",
      "\tfound io.netty#netty-transport;4.1.79.Final in central\n",
      "\tfound io.netty#netty-transport-native-unix-common;4.1.79.Final in central\n",
      "\tfound io.netty#netty-codec;4.1.79.Final in central\n",
      "\tfound io.netty#netty-handler-proxy;4.1.79.Final in central\n",
      "\tfound io.netty#netty-codec-socks;4.1.79.Final in central\n",
      "\tfound io.netty#netty-codec-http;4.1.79.Final in central\n",
      "\tfound io.netty#netty-codec-http2;4.1.79.Final in central\n",
      "\tfound io.netty#netty-transport-native-epoll;4.1.79.Final in central\n",
      "\tfound io.netty#netty-transport-classes-epoll;4.1.79.Final in central\n",
      "\tfound io.netty#netty-transport-native-kqueue;4.1.79.Final in central\n",
      "\tfound io.netty#netty-transport-classes-kqueue;4.1.79.Final in central\n",
      "\tfound io.netty#netty-tcnative-boringssl-static;2.0.53.Final in central\n",
      "\tfound io.netty#netty-tcnative-classes;2.0.53.Final in central\n",
      "\tfound io.projectreactor.netty#reactor-netty-http;1.0.22 in central\n",
      "\tfound io.netty#netty-resolver-dns;4.1.79.Final in central\n",
      "\tfound io.netty#netty-codec-dns;4.1.79.Final in central\n",
      "\tfound io.netty#netty-resolver-dns-native-macos;4.1.79.Final in central\n",
      "\tfound io.netty#netty-resolver-dns-classes-macos;4.1.79.Final in central\n",
      "\tfound io.projectreactor.netty#reactor-netty-core;1.0.22 in central\n",
      "\tfound com.azure#azure-storage-common;12.18.1 in central\n",
      "\tfound com.azure#azure-storage-internal-avro;12.4.2 in central\n",
      "\tfound org.apache.hadoop#hadoop-azure;3.3.4 in central\n",
      "\tfound org.apache.httpcomponents#httpclient;4.5.13 in central\n",
      "\tfound org.apache.httpcomponents#httpcore;4.4.13 in central\n",
      "\tfound commons-logging#commons-logging;1.1.3 in central\n",
      "\tfound commons-codec#commons-codec;1.15 in central\n",
      "\tfound com.microsoft.azure#azure-storage;7.0.1 in central\n",
      "\tfound com.microsoft.azure#azure-keyvault-core;1.0.0 in central\n",
      "\tfound com.google.guava#guava;27.0-jre in central\n",
      "\tfound com.google.guava#failureaccess;1.0 in central\n",
      "\tfound com.google.guava#listenablefuture;9999.0-empty-to-avoid-conflict-with-guava in central\n",
      "\tfound com.google.code.findbugs#jsr305;3.0.2 in central\n",
      "\tfound org.checkerframework#checker-qual;2.5.2 in central\n",
      "\tfound com.google.errorprone#error_prone_annotations;2.2.0 in central\n",
      "\tfound com.google.j2objc#j2objc-annotations;1.1 in central\n",
      "\tfound org.codehaus.mojo#animal-sniffer-annotations;1.17 in central\n",
      "\tfound org.apache.hadoop.thirdparty#hadoop-shaded-guava;1.1.1 in central\n",
      "\tfound org.eclipse.jetty#jetty-util-ajax;9.4.43.v20210629 in central\n",
      "\tfound org.eclipse.jetty#jetty-util;9.4.43.v20210629 in central\n",
      "\tfound org.codehaus.jackson#jackson-mapper-asl;1.9.13 in central\n",
      "\tfound org.codehaus.jackson#jackson-core-asl;1.9.13 in central\n",
      "\tfound org.wildfly.openssl#wildfly-openssl;1.0.7.Final in central\n",
      ":: resolution report :: resolve 2439ms :: artifacts dl 60ms\n",
      "\t:: modules in use:\n",
      "\tcom.amazonaws#aws-java-sdk-bundle;1.11.563 from central in [default]\n",
      "\tcom.azure#azure-core;1.32.0 from central in [default]\n",
      "\tcom.azure#azure-core-http-netty;1.12.5 from central in [default]\n",
      "\tcom.azure#azure-storage-blob;12.19.1 from central in [default]\n",
      "\tcom.azure#azure-storage-common;12.18.1 from central in [default]\n",
      "\tcom.azure#azure-storage-internal-avro;12.4.2 from central in [default]\n",
      "\tcom.fasterxml.jackson.core#jackson-annotations;2.13.3 from central in [default]\n",
      "\tcom.fasterxml.jackson.core#jackson-core;2.13.3 from central in [default]\n",
      "\tcom.fasterxml.jackson.core#jackson-databind;2.13.3 from central in [default]\n",
      "\tcom.fasterxml.jackson.dataformat#jackson-dataformat-xml;2.13.3 from central in [default]\n",
      "\tcom.fasterxml.jackson.datatype#jackson-datatype-jsr310;2.13.3 from central in [default]\n",
      "\tcom.fasterxml.woodstox#woodstox-core;6.2.7 from central in [default]\n",
      "\tcom.google.code.findbugs#jsr305;3.0.2 from central in [default]\n",
      "\tcom.google.errorprone#error_prone_annotations;2.2.0 from central in [default]\n",
      "\tcom.google.guava#failureaccess;1.0 from central in [default]\n",
      "\tcom.google.guava#guava;27.0-jre from central in [default]\n",
      "\tcom.google.guava#listenablefuture;9999.0-empty-to-avoid-conflict-with-guava from central in [default]\n",
      "\tcom.google.j2objc#j2objc-annotations;1.1 from central in [default]\n",
      "\tcom.microsoft.azure#azure-keyvault-core;1.0.0 from central in [default]\n",
      "\tcom.microsoft.azure#azure-storage;7.0.1 from central in [default]\n",
      "\tcommons-codec#commons-codec;1.15 from central in [default]\n",
      "\tcommons-logging#commons-logging;1.1.3 from central in [default]\n",
      "\tio.netty#netty-buffer;4.1.79.Final from central in [default]\n",
      "\tio.netty#netty-codec;4.1.79.Final from central in [default]\n",
      "\tio.netty#netty-codec-dns;4.1.79.Final from central in [default]\n",
      "\tio.netty#netty-codec-http;4.1.79.Final from central in [default]\n",
      "\tio.netty#netty-codec-http2;4.1.79.Final from central in [default]\n",
      "\tio.netty#netty-codec-socks;4.1.79.Final from central in [default]\n",
      "\tio.netty#netty-common;4.1.79.Final from central in [default]\n",
      "\tio.netty#netty-handler;4.1.79.Final from central in [default]\n",
      "\tio.netty#netty-handler-proxy;4.1.79.Final from central in [default]\n",
      "\tio.netty#netty-resolver;4.1.79.Final from central in [default]\n",
      "\tio.netty#netty-resolver-dns;4.1.79.Final from central in [default]\n",
      "\tio.netty#netty-resolver-dns-classes-macos;4.1.79.Final from central in [default]\n",
      "\tio.netty#netty-resolver-dns-native-macos;4.1.79.Final from central in [default]\n",
      "\tio.netty#netty-tcnative-boringssl-static;2.0.53.Final from central in [default]\n",
      "\tio.netty#netty-tcnative-classes;2.0.53.Final from central in [default]\n",
      "\tio.netty#netty-transport;4.1.79.Final from central in [default]\n",
      "\tio.netty#netty-transport-classes-epoll;4.1.79.Final from central in [default]\n",
      "\tio.netty#netty-transport-classes-kqueue;4.1.79.Final from central in [default]\n",
      "\tio.netty#netty-transport-native-epoll;4.1.79.Final from central in [default]\n",
      "\tio.netty#netty-transport-native-kqueue;4.1.79.Final from central in [default]\n",
      "\tio.netty#netty-transport-native-unix-common;4.1.79.Final from central in [default]\n",
      "\tio.projectreactor#reactor-core;3.4.22 from central in [default]\n",
      "\tio.projectreactor.netty#reactor-netty-core;1.0.22 from central in [default]\n",
      "\tio.projectreactor.netty#reactor-netty-http;1.0.22 from central in [default]\n",
      "\torg.apache.hadoop#hadoop-aws;3.2.2 from central in [default]\n",
      "\torg.apache.hadoop#hadoop-azure;3.3.4 from central in [default]\n",
      "\torg.apache.hadoop.thirdparty#hadoop-shaded-guava;1.1.1 from central in [default]\n",
      "\torg.apache.httpcomponents#httpclient;4.5.13 from central in [default]\n",
      "\torg.apache.httpcomponents#httpcore;4.4.13 from central in [default]\n",
      "\torg.checkerframework#checker-qual;2.5.2 from central in [default]\n",
      "\torg.codehaus.jackson#jackson-core-asl;1.9.13 from central in [default]\n",
      "\torg.codehaus.jackson#jackson-mapper-asl;1.9.13 from central in [default]\n",
      "\torg.codehaus.mojo#animal-sniffer-annotations;1.17 from central in [default]\n",
      "\torg.codehaus.woodstox#stax2-api;4.2.1 from central in [default]\n",
      "\torg.eclipse.jetty#jetty-util;9.4.43.v20210629 from central in [default]\n",
      "\torg.eclipse.jetty#jetty-util-ajax;9.4.43.v20210629 from central in [default]\n",
      "\torg.reactivestreams#reactive-streams;1.0.4 from central in [default]\n",
      "\torg.slf4j#slf4j-api;1.7.36 from central in [default]\n",
      "\torg.wildfly.openssl#wildfly-openssl;1.0.7.Final from central in [default]\n",
      "\t:: evicted modules:\n",
      "\tcom.fasterxml.jackson.core#jackson-core;2.12.7 by [com.fasterxml.jackson.core#jackson-core;2.13.3] in [default]\n",
      "\t---------------------------------------------------------------------\n",
      "\t|                  |            modules            ||   artifacts   |\n",
      "\t|       conf       | number| search|dwnlded|evicted|| number|dwnlded|\n",
      "\t---------------------------------------------------------------------\n",
      "\t|      default     |   62  |   0   |   0   |   1   ||   61  |   0   |\n",
      "\t---------------------------------------------------------------------\n",
      ":: retrieving :: org.apache.spark#spark-submit-parent-c7869523-a250-448a-bf6b-68aa42df9c23\n",
      "\tconfs: [default]\n",
      "\t0 artifacts copied, 61 already retrieved (0kB/47ms)\n"
     ]
    },
    {
     "name": "stdout",
     "output_type": "stream",
     "text": [
      "22/10/12 00:19:33 WARN NativeCodeLoader: Unable to load native-hadoop library for your platform... using builtin-java classes where applicable\n"
     ]
    },
    {
     "name": "stderr",
     "output_type": "stream",
     "text": [
      "Setting default log level to \"WARN\".\n",
      "To adjust logging level use sc.setLogLevel(newLevel). For SparkR, use setLogLevel(newLevel).\n"
     ]
    }
   ],
   "source": [
    "spark = SparkSession.builder\\\n",
    "    .appName('PI Backup')\\\n",
    "    .config(conf=conf)\\\n",
    "    .getOrCreate()"
   ]
  },
  {
   "cell_type": "code",
   "execution_count": 4,
   "id": "18543454",
   "metadata": {},
   "outputs": [
    {
     "name": "stdout",
     "output_type": "stream",
     "text": [
      "22/10/12 00:19:40 WARN MetricsConfig: Cannot locate configuration: tried hadoop-metrics2-s3a-file-system.properties,hadoop-metrics2.properties\n"
     ]
    },
    {
     "name": "stderr",
     "output_type": "stream",
     "text": [
      "                                                                                \r"
     ]
    }
   ],
   "source": [
    "region_data = spark.read.csv('s3a://projeto-pi-datalake-analytics/autism-region/', header=True, inferSchema=True)"
   ]
  },
  {
   "cell_type": "code",
   "execution_count": 8,
   "id": "a6df4e7d",
   "metadata": {},
   "outputs": [
    {
     "name": "stdout",
     "output_type": "stream",
     "text": [
      "22/10/12 00:21:31 WARN AzureFileSystemThreadPoolExecutor: Disabling threads for Delete operation as thread count 0 is <= 1\n"
     ]
    },
    {
     "name": "stderr",
     "output_type": "stream",
     "text": [
      "\r",
      "[Stage 5:>                                                          (0 + 2) / 2]\r"
     ]
    },
    {
     "name": "stdout",
     "output_type": "stream",
     "text": [
      "22/10/12 00:21:36 WARN AzureFileSystemThreadPoolExecutor: Disabling threads for Rename operation as thread count 0 is <= 1\n"
     ]
    },
    {
     "name": "stderr",
     "output_type": "stream",
     "text": [
      "\r",
      "[Stage 5:=============================>                             (1 + 1) / 2]\r",
      "\r",
      "                                                                                \r"
     ]
    },
    {
     "name": "stdout",
     "output_type": "stream",
     "text": [
      "22/10/12 00:21:36 WARN AzureFileSystemThreadPoolExecutor: Disabling threads for Rename operation as thread count 0 is <= 1\n",
      "22/10/12 00:21:37 WARN AzureFileSystemThreadPoolExecutor: Disabling threads for Delete operation as thread count 0 is <= 1\n"
     ]
    }
   ],
   "source": [
    "region_data.write.mode('overwrite').parquet('wasb://backups@projetopibackup.blob.core.windows.net/autism-region')"
   ]
  },
  {
   "cell_type": "code",
   "execution_count": 6,
   "id": "d67dd358",
   "metadata": {},
   "outputs": [],
   "source": [
    "greenspace_data = spark.read.csv('s3a://projeto-pi-datalake-analytics/autism-greespace/', header=True, inferSchema=True)"
   ]
  },
  {
   "cell_type": "code",
   "execution_count": 9,
   "id": "0111e1da",
   "metadata": {},
   "outputs": [
    {
     "name": "stdout",
     "output_type": "stream",
     "text": [
      "22/10/12 00:22:10 WARN AzureFileSystemThreadPoolExecutor: Disabling threads for Delete operation as thread count 0 is <= 1\n"
     ]
    },
    {
     "name": "stderr",
     "output_type": "stream",
     "text": [
      "\r",
      "[Stage 6:>                                                          (0 + 1) / 1]\r"
     ]
    },
    {
     "name": "stdout",
     "output_type": "stream",
     "text": [
      "22/10/12 00:22:12 WARN AzureFileSystemThreadPoolExecutor: Disabling threads for Rename operation as thread count 0 is <= 1\n"
     ]
    },
    {
     "name": "stderr",
     "output_type": "stream",
     "text": [
      "\r",
      "                                                                                \r"
     ]
    },
    {
     "name": "stdout",
     "output_type": "stream",
     "text": [
      "22/10/12 00:22:12 WARN AzureFileSystemThreadPoolExecutor: Disabling threads for Delete operation as thread count 0 is <= 1\n"
     ]
    }
   ],
   "source": [
    "greenspace_data.write.mode('overwrite').parquet('wasb://backups@projetopibackup.blob.core.windows.net/autism-greespace')"
   ]
  },
  {
   "cell_type": "code",
   "execution_count": 10,
   "id": "8122a821",
   "metadata": {},
   "outputs": [],
   "source": [
    "twitter_data = spark.read.csv('s3a://projeto-pi-datalake-analytics/twitter-sentiment/', header=True, inferSchema=True)"
   ]
  },
  {
   "cell_type": "code",
   "execution_count": 11,
   "id": "6e67aba6",
   "metadata": {},
   "outputs": [
    {
     "name": "stdout",
     "output_type": "stream",
     "text": [
      "22/10/12 00:22:18 WARN AzureFileSystemThreadPoolExecutor: Disabling threads for Rename operation as thread count 0 is <= 1\n"
     ]
    },
    {
     "name": "stderr",
     "output_type": "stream",
     "text": [
      "\r",
      "[Stage 9:>                                                          (0 + 1) / 1]\r",
      "\r",
      "                                                                                \r"
     ]
    },
    {
     "name": "stdout",
     "output_type": "stream",
     "text": [
      "22/10/12 00:22:19 WARN AzureFileSystemThreadPoolExecutor: Disabling threads for Delete operation as thread count 0 is <= 1\n"
     ]
    }
   ],
   "source": [
    "twitter_data.write.mode('overwrite').parquet('wasb://backups@projetopibackup.blob.core.windows.net/twitter-sentiment')"
   ]
  },
  {
   "cell_type": "code",
   "execution_count": 12,
   "id": "ac352054",
   "metadata": {},
   "outputs": [
    {
     "name": "stderr",
     "output_type": "stream",
     "text": [
      "                                                                                \r"
     ]
    }
   ],
   "source": [
    "characteristics_data = spark.read.csv(\n",
    "    's3a://projeto-pi-datalake-analytics/autism-characteristics/', header=True, inferSchema=True\n",
    ")"
   ]
  },
  {
   "cell_type": "code",
   "execution_count": 13,
   "id": "00e2c641",
   "metadata": {},
   "outputs": [
    {
     "name": "stderr",
     "output_type": "stream",
     "text": [
      "\r",
      "[Stage 12:>                                                         (0 + 2) / 2]\r"
     ]
    },
    {
     "name": "stdout",
     "output_type": "stream",
     "text": [
      "22/10/12 00:22:34 WARN AzureFileSystemThreadPoolExecutor: Disabling threads for Rename operation as thread count 0 is <= 1\n",
      "22/10/12 00:22:34 WARN AzureFileSystemThreadPoolExecutor: Disabling threads for Rename operation as thread count 0 is <= 1\n"
     ]
    },
    {
     "name": "stderr",
     "output_type": "stream",
     "text": [
      "\r",
      "                                                                                \r"
     ]
    },
    {
     "name": "stdout",
     "output_type": "stream",
     "text": [
      "22/10/12 00:22:35 WARN AzureFileSystemThreadPoolExecutor: Disabling threads for Delete operation as thread count 0 is <= 1\n"
     ]
    }
   ],
   "source": [
    "characteristics_data.write.mode('overwrite').parquet('wasb://backups@projetopibackup.blob.core.windows.net/autism-characteristics')"
   ]
  },
  {
   "cell_type": "code",
   "execution_count": 14,
   "id": "9f17540d",
   "metadata": {},
   "outputs": [],
   "source": [
    "spark.sparkContext.stop()\n",
    "spark.stop()"
   ]
  }
 ],
 "metadata": {
  "kernelspec": {
   "display_name": "Python 3 (ipykernel)",
   "language": "python",
   "name": "python3"
  },
  "language_info": {
   "codemirror_mode": {
    "name": "ipython",
    "version": 3
   },
   "file_extension": ".py",
   "mimetype": "text/x-python",
   "name": "python",
   "nbconvert_exporter": "python",
   "pygments_lexer": "ipython3",
   "version": "3.7.10"
  }
 },
 "nbformat": 4,
 "nbformat_minor": 5
}
