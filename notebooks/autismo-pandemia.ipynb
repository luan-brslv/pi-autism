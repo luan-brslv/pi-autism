{
 "cells": [
  {
   "cell_type": "code",
   "execution_count": 1,
   "id": "323a14d5",
   "metadata": {},
   "outputs": [],
   "source": [
    "from pyspark import SparkConf\n",
    "from pyspark.sql import SparkSession"
   ]
  },
  {
   "cell_type": "code",
   "execution_count": 2,
   "id": "0bf314f5",
   "metadata": {},
   "outputs": [
    {
     "data": {
      "text/plain": [
       "<pyspark.conf.SparkConf at 0x7f2e5d4423d0>"
      ]
     },
     "execution_count": 2,
     "metadata": {},
     "output_type": "execute_result"
    }
   ],
   "source": [
    "conf = SparkConf()\n",
    "conf.set('spark.jars.packages', 'org.apache.hadoop:hadoop-aws:3.2.2')\n",
    "conf.set('spark.hadoop.fs.s3a.aws.credentials.provider', 'com.amazonaws.auth.InstanceProfileCredentialsProvider')\n",
    "conf.set('spark.sql.sources.partitionOverwriteMode', 'dynamic')"
   ]
  },
  {
   "cell_type": "code",
   "execution_count": 3,
   "id": "091300e1",
   "metadata": {},
   "outputs": [
    {
     "name": "stdout",
     "output_type": "stream",
     "text": [
      ":: loading settings :: url = jar:file:/usr/local/lib/python3.7/site-packages/pyspark/jars/ivy-2.5.0.jar!/org/apache/ivy/core/settings/ivysettings.xml\n"
     ]
    },
    {
     "name": "stderr",
     "output_type": "stream",
     "text": [
      "Ivy Default Cache set to: /root/.ivy2/cache\n",
      "The jars for the packages stored in: /root/.ivy2/jars\n",
      "org.apache.hadoop#hadoop-aws added as a dependency\n",
      ":: resolving dependencies :: org.apache.spark#spark-submit-parent-cbd02534-8dd8-46ce-be3d-33a7d1169c13;1.0\n",
      "\tconfs: [default]\n",
      "\tfound org.apache.hadoop#hadoop-aws;3.2.2 in central\n",
      "\tfound com.amazonaws#aws-java-sdk-bundle;1.11.563 in central\n",
      ":: resolution report :: resolve 397ms :: artifacts dl 22ms\n",
      "\t:: modules in use:\n",
      "\tcom.amazonaws#aws-java-sdk-bundle;1.11.563 from central in [default]\n",
      "\torg.apache.hadoop#hadoop-aws;3.2.2 from central in [default]\n",
      "\t---------------------------------------------------------------------\n",
      "\t|                  |            modules            ||   artifacts   |\n",
      "\t|       conf       | number| search|dwnlded|evicted|| number|dwnlded|\n",
      "\t---------------------------------------------------------------------\n",
      "\t|      default     |   2   |   0   |   0   |   0   ||   2   |   0   |\n",
      "\t---------------------------------------------------------------------\n",
      ":: retrieving :: org.apache.spark#spark-submit-parent-cbd02534-8dd8-46ce-be3d-33a7d1169c13\n",
      "\tconfs: [default]\n",
      "\t0 artifacts copied, 2 already retrieved (0kB/18ms)\n"
     ]
    },
    {
     "name": "stdout",
     "output_type": "stream",
     "text": [
      "22/11/29 23:48:33 WARN NativeCodeLoader: Unable to load native-hadoop library for your platform... using builtin-java classes where applicable\n"
     ]
    },
    {
     "name": "stderr",
     "output_type": "stream",
     "text": [
      "Setting default log level to \"WARN\".\n",
      "To adjust logging level use sc.setLogLevel(newLevel). For SparkR, use setLogLevel(newLevel).\n"
     ]
    }
   ],
   "source": [
    "spark = SparkSession.builder.config(conf=conf).getOrCreate()"
   ]
  },
  {
   "cell_type": "code",
   "execution_count": 5,
   "id": "d468a380",
   "metadata": {},
   "outputs": [
    {
     "name": "stdout",
     "output_type": "stream",
     "text": [
      "22/11/29 23:49:16 WARN MetricsConfig: Cannot locate configuration: tried hadoop-metrics2-s3a-file-system.properties,hadoop-metrics2.properties\n"
     ]
    },
    {
     "name": "stderr",
     "output_type": "stream",
     "text": [
      "                                                                                \r"
     ]
    }
   ],
   "source": [
    "autismo = spark.read.csv(\n",
    "    \"s3a://projeto-pi-datalake-raw/autismo_na_pandemia/autistas_na_pandemia_2022-11-23_22-35-44.csv\",\n",
    "    header=True,\n",
    "    inferSchema=False\n",
    ")"
   ]
  },
  {
   "cell_type": "code",
   "execution_count": 6,
   "id": "e79a7051",
   "metadata": {},
   "outputs": [
    {
     "name": "stdout",
     "output_type": "stream",
     "text": [
      "root\n",
      " |-- id: string (nullable = true)\n",
      " |-- pais_autistas: string (nullable = true)\n",
      " |-- idade: string (nullable = true)\n",
      " |-- sexo: string (nullable = true)\n",
      " |-- nivel_autismo: string (nullable = true)\n",
      " |-- nivel_comunicacao: string (nullable = true)\n",
      " |-- funcoes_cognitivas: string (nullable = true)\n",
      " |-- status_comunicacao: string (nullable = true)\n",
      " |-- controle_emocional: string (nullable = true)\n",
      " |-- interacao_social: string (nullable = true)\n",
      " |-- comportamento_esteriotipado: string (nullable = true)\n",
      " |-- comportamento: string (nullable = true)\n",
      " |-- flexibilidade_interesses: string (nullable = true)\n",
      " |-- autonomia: string (nullable = true)\n",
      " |-- frequencia_tv: string (nullable = true)\n",
      " |-- frequencia_video-games: string (nullable = true)\n",
      " |-- joga_com_amigos_online: string (nullable = true)\n",
      " |-- redes_sociais: string (nullable = true)\n",
      "\n"
     ]
    }
   ],
   "source": [
    "autismo.printSchema()"
   ]
  },
  {
   "cell_type": "code",
   "execution_count": 7,
   "id": "76fc38d6",
   "metadata": {},
   "outputs": [
    {
     "data": {
      "text/plain": [
       "Row(id='1', pais_autistas='pai', idade='9', sexo='M', nivel_autismo='grave', nivel_comunicacao='sem_comunicacao', funcoes_cognitivas='media', status_comunicacao='melhorou', controle_emocional='estavel', interacao_social='melhorou', comportamento_esteriotipado='estavel', comportamento='piorou', flexibilidade_interesses='piorou', autonomia='piorou', frequencia_tv='nunca', frequencia_video-games='frequentemente', joga_com_amigos_online='nunca', redes_sociais='nunca')"
      ]
     },
     "execution_count": 7,
     "metadata": {},
     "output_type": "execute_result"
    }
   ],
   "source": [
    "autismo.head()"
   ]
  },
  {
   "cell_type": "code",
   "execution_count": null,
   "id": "70381677",
   "metadata": {},
   "outputs": [],
   "source": [
    "dim_pais = autismo"
   ]
  },
  {
   "cell_type": "code",
   "execution_count": 8,
   "id": "c8e39a01",
   "metadata": {},
   "outputs": [],
   "source": [
    "spark.sparkContext.stop()\n",
    "spark.stop()"
   ]
  }
 ],
 "metadata": {
  "kernelspec": {
   "display_name": "Python 3 (ipykernel)",
   "language": "python",
   "name": "python3"
  },
  "language_info": {
   "codemirror_mode": {
    "name": "ipython",
    "version": 3
   },
   "file_extension": ".py",
   "mimetype": "text/x-python",
   "name": "python",
   "nbconvert_exporter": "python",
   "pygments_lexer": "ipython3",
   "version": "3.7.10"
  }
 },
 "nbformat": 4,
 "nbformat_minor": 5
}
