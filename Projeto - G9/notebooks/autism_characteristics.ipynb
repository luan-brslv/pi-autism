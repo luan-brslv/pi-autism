{
 "cells": [
  {
   "cell_type": "code",
   "execution_count": 1,
   "id": "998a81c1",
   "metadata": {},
   "outputs": [],
   "source": [
    "from pyspark import SparkConf\n",
    "from pyspark.sql import SparkSession\n",
    "from pyspark.sql import functions as f\n",
    "from datetime import datetime"
   ]
  },
  {
   "cell_type": "code",
   "execution_count": 2,
   "id": "d57b4fd2",
   "metadata": {},
   "outputs": [
    {
     "data": {
      "text/plain": [
       "<pyspark.conf.SparkConf at 0x7f80ada5f9d0>"
      ]
     },
     "execution_count": 2,
     "metadata": {},
     "output_type": "execute_result"
    }
   ],
   "source": [
    "conf = SparkConf()\n",
    "conf.set('spark.jars.packages', 'org.apache.hadoop:hadoop-aws:3.2.2')\n",
    "conf.set('spark.hadoop.fs.s3a.aws.credentials.provider', 'com.amazonaws.auth.InstanceProfileCredentialsProvider')\n",
    "conf.set('spark.sql.sources.partitionOverwriteMode', 'dynamic')"
   ]
  },
  {
   "cell_type": "code",
   "execution_count": 3,
   "id": "ebb5b7bd",
   "metadata": {},
   "outputs": [
    {
     "name": "stdout",
     "output_type": "stream",
     "text": [
      ":: loading settings :: url = jar:file:/usr/local/lib/python3.7/site-packages/pyspark/jars/ivy-2.5.0.jar!/org/apache/ivy/core/settings/ivysettings.xml\n"
     ]
    },
    {
     "name": "stderr",
     "output_type": "stream",
     "text": [
      "Ivy Default Cache set to: /root/.ivy2/cache\n",
      "The jars for the packages stored in: /root/.ivy2/jars\n",
      "org.apache.hadoop#hadoop-aws added as a dependency\n",
      ":: resolving dependencies :: org.apache.spark#spark-submit-parent-4236ad17-85de-4b7a-a26c-83a318c277db;1.0\n",
      "\tconfs: [default]\n",
      "\tfound org.apache.hadoop#hadoop-aws;3.2.2 in central\n",
      "\tfound com.amazonaws#aws-java-sdk-bundle;1.11.563 in central\n",
      ":: resolution report :: resolve 316ms :: artifacts dl 8ms\n",
      "\t:: modules in use:\n",
      "\tcom.amazonaws#aws-java-sdk-bundle;1.11.563 from central in [default]\n",
      "\torg.apache.hadoop#hadoop-aws;3.2.2 from central in [default]\n",
      "\t---------------------------------------------------------------------\n",
      "\t|                  |            modules            ||   artifacts   |\n",
      "\t|       conf       | number| search|dwnlded|evicted|| number|dwnlded|\n",
      "\t---------------------------------------------------------------------\n",
      "\t|      default     |   2   |   0   |   0   |   0   ||   2   |   0   |\n",
      "\t---------------------------------------------------------------------\n",
      ":: retrieving :: org.apache.spark#spark-submit-parent-4236ad17-85de-4b7a-a26c-83a318c277db\n",
      "\tconfs: [default]\n",
      "\t0 artifacts copied, 2 already retrieved (0kB/9ms)\n"
     ]
    },
    {
     "name": "stdout",
     "output_type": "stream",
     "text": [
      "22/10/13 23:48:57 WARN NativeCodeLoader: Unable to load native-hadoop library for your platform... using builtin-java classes where applicable\n"
     ]
    },
    {
     "name": "stderr",
     "output_type": "stream",
     "text": [
      "Setting default log level to \"WARN\".\n",
      "To adjust logging level use sc.setLogLevel(newLevel). For SparkR, use setLogLevel(newLevel).\n"
     ]
    }
   ],
   "source": [
    "spark = SparkSession.builder\\\n",
    "    .appName('autism-characteristics')\\\n",
    "    .config(conf=conf)\\\n",
    "    .getOrCreate()"
   ]
  },
  {
   "cell_type": "code",
   "execution_count": 4,
   "id": "29ec9885",
   "metadata": {},
   "outputs": [
    {
     "name": "stdout",
     "output_type": "stream",
     "text": [
      "22/10/13 23:49:06 WARN MetricsConfig: Cannot locate configuration: tried hadoop-metrics2-s3a-file-system.properties,hadoop-metrics2.properties\n"
     ]
    },
    {
     "name": "stderr",
     "output_type": "stream",
     "text": [
      "                                                                                \r"
     ]
    }
   ],
   "source": [
    "df = spark.read.parquet(\"s3a://projeto-pi-datalake-trusted/autism-region\")"
   ]
  },
  {
   "cell_type": "code",
   "execution_count": 5,
   "id": "b457d758",
   "metadata": {},
   "outputs": [
    {
     "name": "stdout",
     "output_type": "stream",
     "text": [
      "root\n",
      " |-- id_paciente: string (nullable = true)\n",
      " |-- idade_atual: string (nullable = true)\n",
      " |-- idade_descoberta: string (nullable = true)\n",
      " |-- genero: string (nullable = true)\n",
      " |-- grau: string (nullable = true)\n",
      " |-- sensibilidade_sentidos: string (nullable = true)\n",
      " |-- agressivo: string (nullable = true)\n",
      " |-- hiperativo: string (nullable = true)\n",
      " |-- movimentos_repetitivos: string (nullable = true)\n",
      " |-- baixa_concentracao: string (nullable = true)\n",
      " |-- hiperfoco: string (nullable = true)\n",
      " |-- necessidade_rotina: string (nullable = true)\n",
      " |-- dificuldade_imaginacao: string (nullable = true)\n",
      " |-- introvertido: string (nullable = true)\n",
      " |-- tipo_autismo: string (nullable = true)\n",
      " |-- tipo_autismo_descricao: string (nullable = true)\n",
      " |-- classe: string (nullable = true)\n",
      " |-- classe-descricao: string (nullable = true)\n",
      " |-- empregado: boolean (nullable = true)\n",
      " |-- per_capita: double (nullable = true)\n",
      " |-- quantidade_familia: long (nullable = true)\n",
      " |-- total_salario: long (nullable = true)\n",
      " |-- PIB_nacional: long (nullable = true)\n",
      " |-- PIB_percent_BR: double (nullable = true)\n",
      " |-- PIB_regional: long (nullable = true)\n",
      " |-- area_regiao: long (nullable = true)\n",
      " |-- densidade_demografica_regiao: double (nullable = true)\n",
      " |-- gentilico_regiao: string (nullable = true)\n",
      " |-- pais: string (nullable = true)\n",
      " |-- populacao_regiao: long (nullable = true)\n",
      " |-- raca_predominante_regiao: string (nullable = true)\n",
      " |-- regiao: string (nullable = true)\n",
      " |-- year: integer (nullable = true)\n",
      " |-- month: integer (nullable = true)\n",
      " |-- day: integer (nullable = true)\n",
      "\n"
     ]
    }
   ],
   "source": [
    "df.printSchema()"
   ]
  },
  {
   "cell_type": "code",
   "execution_count": 6,
   "id": "8723df39",
   "metadata": {},
   "outputs": [
    {
     "name": "stdout",
     "output_type": "stream",
     "text": [
      "22/10/12 00:03:45 WARN package: Truncated the string representation of a plan since it was too large. This behavior can be adjusted by setting 'spark.sql.debug.maxToStringFields'.\n"
     ]
    },
    {
     "name": "stderr",
     "output_type": "stream",
     "text": [
      "                                                                                \r"
     ]
    },
    {
     "data": {
      "text/plain": [
       "Row(id_paciente='8647DC55C75FE6B49B05AB4F6E2C4EF604EFE2672FC477BB76C0114F8F', idade_atual='44', idade_descoberta='29', genero='B850D4F5937B17CE7D2632EE42F6F88AFE6BCAE572821F2612C20B0CD3', grau='severo', sensibilidade_sentidos='True', agressivo='True', hiperativo='False', movimentos_repetitivos='False', baixa_concentracao='True', hiperfoco='True', necessidade_rotina='True', dificuldade_imaginacao='True', introvertido='False', tipo_autismo='Transtorno do espectro Autista (TEA)', tipo_autismo_descricao='Está extremidade mais branda do espectro autista, pois a inteligência pode ser alta e a capacidade de realizar as atividades diárias é preservada. No entanto, a dificuldade na interação social é muito comum.', classe='B', classe-descricao='Baixa classe alta', empregado=True, per_capita=9977.0, quantidade_familia=1, total_salario=9977, PIB_nacional=8700000000000, PIB_percent_BR=5.3, PIB_regional=1195000000000, area_regiao=3853676948, densidade_demografica_regiao=4.12, gentilico_regiao='nortista', pais='Brasil', populacao_regiao=18672591, raca_predominante_regiao='parda', regiao='39EFA219B6A5A182EB13F87D257BC78E78DCE325B2EFF170E72411962DAA803BE721158F2A7FDD51721FE75C148F87595FE580CEE69B55F01B721B6485DA601D371A2586B6019A5D92DEA00F1180DFED3B891BEEC18B', year=2022, month=5, day=27)"
      ]
     },
     "execution_count": 6,
     "metadata": {},
     "output_type": "execute_result"
    }
   ],
   "source": [
    "df.head()"
   ]
  },
  {
   "cell_type": "code",
   "execution_count": 7,
   "id": "6bb0df76",
   "metadata": {},
   "outputs": [],
   "source": [
    "execution_date = datetime(2022, 6, 1)"
   ]
  },
  {
   "cell_type": "code",
   "execution_count": 8,
   "id": "d00a9095",
   "metadata": {},
   "outputs": [],
   "source": [
    "df_filtred = (\n",
    "    df.select(\n",
    "        \"tipo_autismo\", \"classe\", \"classe-descricao\", \"tipo_autismo_descricao\", \"grau\", \"genero\", \"empregado\",\n",
    "        \"dificuldade_imaginacao\", \"necessidade_rotina\", \"hiperfoco\", \"baixa_concentracao\", \"movimentos_repetitivos\",\n",
    "        \"hiperativo\", \"agressivo\", \"sensibilidade_sentidos\", \"introvertido\"\n",
    "    )\n",
    "    .withColumn('year', f.lit(execution_date.year))\n",
    "    .withColumn('month', f.lit(execution_date.month))\n",
    "    .withColumn('day', f.lit(execution_date.day))\n",
    ")"
   ]
  },
  {
   "cell_type": "code",
   "execution_count": 9,
   "id": "c85c4ed4",
   "metadata": {},
   "outputs": [
    {
     "name": "stdout",
     "output_type": "stream",
     "text": [
      "root\n",
      " |-- tipo_autismo: string (nullable = true)\n",
      " |-- classe: string (nullable = true)\n",
      " |-- classe-descricao: string (nullable = true)\n",
      " |-- tipo_autismo_descricao: string (nullable = true)\n",
      " |-- grau: string (nullable = true)\n",
      " |-- genero: string (nullable = true)\n",
      " |-- empregado: boolean (nullable = true)\n",
      " |-- dificuldade_imaginacao: string (nullable = true)\n",
      " |-- necessidade_rotina: string (nullable = true)\n",
      " |-- hiperfoco: string (nullable = true)\n",
      " |-- baixa_concentracao: string (nullable = true)\n",
      " |-- movimentos_repetitivos: string (nullable = true)\n",
      " |-- hiperativo: string (nullable = true)\n",
      " |-- agressivo: string (nullable = true)\n",
      " |-- sensibilidade_sentidos: string (nullable = true)\n",
      " |-- introvertido: string (nullable = true)\n",
      " |-- year: integer (nullable = false)\n",
      " |-- month: integer (nullable = false)\n",
      " |-- day: integer (nullable = false)\n",
      "\n"
     ]
    }
   ],
   "source": [
    "df_filtred.printSchema()"
   ]
  },
  {
   "cell_type": "code",
   "execution_count": 10,
   "id": "aa635671",
   "metadata": {},
   "outputs": [
    {
     "name": "stdout",
     "output_type": "stream",
     "text": [
      "22/10/12 00:03:49 WARN AbstractS3ACommitterFactory: Using standard FileOutputCommitter to commit work. This is slow and potentially unsafe.\n"
     ]
    },
    {
     "name": "stderr",
     "output_type": "stream",
     "text": [
      "\r",
      "[Stage 2:>                                                          (0 + 2) / 2]\r"
     ]
    },
    {
     "name": "stdout",
     "output_type": "stream",
     "text": [
      "22/10/12 00:04:32 WARN AbstractS3ACommitterFactory: Using standard FileOutputCommitter to commit work. This is slow and potentially unsafe.\n",
      "22/10/12 00:04:32 WARN AbstractS3ACommitterFactory: Using standard FileOutputCommitter to commit work. This is slow and potentially unsafe.\n"
     ]
    },
    {
     "name": "stderr",
     "output_type": "stream",
     "text": [
      "\r",
      "                                                                                \r"
     ]
    }
   ],
   "source": [
    "df_filtred.write.mode('overwrite').partitionBy('year', 'month', 'day')\\\n",
    "    .csv('s3a://projeto-pi-datalake-analytics/autism-characteristics', header=True)"
   ]
  },
  {
   "cell_type": "code",
   "execution_count": 5,
   "id": "22b5bbd7",
   "metadata": {},
   "outputs": [],
   "source": [
    "# secret = 'aYszPMHCQhrbqyv3BaqtW7yufaf7I0Up'"
   ]
  },
  {
   "cell_type": "code",
   "execution_count": 6,
   "id": "da494dc4",
   "metadata": {},
   "outputs": [
    {
     "name": "stderr",
     "output_type": "stream",
     "text": [
      "                                                                                \r"
     ]
    },
    {
     "data": {
      "text/plain": [
       "Row(decode(aes_decrypt(unhex(id_paciente), aYszPMHCQhrbqyv3BaqtW7yufaf7I0Up, GCM, DEFAULT), UTF-8)='2', id_paciente='8647DC55C75FE6B49B05AB4F6E2C4EF604EFE2672FC477BB76C0114F8F')"
      ]
     },
     "execution_count": 6,
     "metadata": {},
     "output_type": "execute_result"
    }
   ],
   "source": [
    "# df.select(f.expr(f\"decode(aes_decrypt(unhex(id_paciente), '{secret}'), 'UTF-8')\"), \"id_paciente\").head()"
   ]
  },
  {
   "cell_type": "code",
   "execution_count": 13,
   "id": "1faf9d3c",
   "metadata": {},
   "outputs": [],
   "source": [
    "spark.sparkContext.stop()\n",
    "spark.stop()"
   ]
  }
 ],
 "metadata": {
  "kernelspec": {
   "display_name": "Python 3 (ipykernel)",
   "language": "python",
   "name": "python3"
  },
  "language_info": {
   "codemirror_mode": {
    "name": "ipython",
    "version": 3
   },
   "file_extension": ".py",
   "mimetype": "text/x-python",
   "name": "python",
   "nbconvert_exporter": "python",
   "pygments_lexer": "ipython3",
   "version": "3.7.10"
  }
 },
 "nbformat": 4,
 "nbformat_minor": 5
}
