{
 "cells": [
  {
   "cell_type": "code",
   "execution_count": 7,
   "id": "7c752152",
   "metadata": {},
   "outputs": [],
   "source": [
    "from pyspark import SparkConf\n",
    "from pyspark.sql import SparkSession\n",
    "from pyspark.sql import functions as f\n",
    "from datetime import datetime\n",
    "import boto3\n",
    "import json"
   ]
  },
  {
   "cell_type": "code",
   "execution_count": 2,
   "id": "0212f00a",
   "metadata": {},
   "outputs": [
    {
     "data": {
      "text/plain": [
       "<pyspark.conf.SparkConf at 0x7f6934fe1450>"
      ]
     },
     "execution_count": 2,
     "metadata": {},
     "output_type": "execute_result"
    }
   ],
   "source": [
    "conf = SparkConf()\n",
    "conf.set('spark.jars.packages', 'org.apache.hadoop:hadoop-aws:3.2.2,com.databricks:spark-xml_2.12:0.14.0')\n",
    "conf.set('spark.hadoop.fs.s3a.aws.credentials.provider', 'com.amazonaws.auth.InstanceProfileCredentialsProvider')\n",
    "conf.set('spark.sql.sources.partitionOverwriteMode', 'dynamic')"
   ]
  },
  {
   "cell_type": "code",
   "execution_count": 8,
   "id": "96491be9",
   "metadata": {},
   "outputs": [],
   "source": [
    "secret_name = \"spark/trusted\"\n",
    "region_name = \"us-east-1\"\n",
    "\n",
    "session = boto3.session.Session()\n",
    "client = session.client(\n",
    "    service_name='secretsmanager',\n",
    "    region_name=region_name\n",
    ")\n",
    "get_secret_value_response = client.get_secret_value(SecretId=secret_name)\n",
    "secret = get_secret_value_response['SecretString']\n",
    "secret = json.loads(secret)['TRUSTED_DATA_SECRET']"
   ]
  },
  {
   "cell_type": "code",
   "execution_count": 4,
   "id": "36591a14",
   "metadata": {},
   "outputs": [
    {
     "name": "stdout",
     "output_type": "stream",
     "text": [
      ":: loading settings :: url = jar:file:/usr/local/lib/python3.7/site-packages/pyspark/jars/ivy-2.5.0.jar!/org/apache/ivy/core/settings/ivysettings.xml\n"
     ]
    },
    {
     "name": "stderr",
     "output_type": "stream",
     "text": [
      "Ivy Default Cache set to: /root/.ivy2/cache\n",
      "The jars for the packages stored in: /root/.ivy2/jars\n",
      "org.apache.hadoop#hadoop-aws added as a dependency\n",
      "com.databricks#spark-xml_2.12 added as a dependency\n",
      ":: resolving dependencies :: org.apache.spark#spark-submit-parent-27327850-f273-488b-984b-071440eeff32;1.0\n",
      "\tconfs: [default]\n",
      "\tfound org.apache.hadoop#hadoop-aws;3.2.2 in central\n",
      "\tfound com.amazonaws#aws-java-sdk-bundle;1.11.563 in central\n",
      "\tfound com.databricks#spark-xml_2.12;0.14.0 in central\n",
      "\tfound commons-io#commons-io;2.8.0 in central\n",
      "\tfound org.glassfish.jaxb#txw2;2.3.4 in central\n",
      "\tfound org.apache.ws.xmlschema#xmlschema-core;2.2.5 in central\n",
      ":: resolution report :: resolve 587ms :: artifacts dl 36ms\n",
      "\t:: modules in use:\n",
      "\tcom.amazonaws#aws-java-sdk-bundle;1.11.563 from central in [default]\n",
      "\tcom.databricks#spark-xml_2.12;0.14.0 from central in [default]\n",
      "\tcommons-io#commons-io;2.8.0 from central in [default]\n",
      "\torg.apache.hadoop#hadoop-aws;3.2.2 from central in [default]\n",
      "\torg.apache.ws.xmlschema#xmlschema-core;2.2.5 from central in [default]\n",
      "\torg.glassfish.jaxb#txw2;2.3.4 from central in [default]\n",
      "\t---------------------------------------------------------------------\n",
      "\t|                  |            modules            ||   artifacts   |\n",
      "\t|       conf       | number| search|dwnlded|evicted|| number|dwnlded|\n",
      "\t---------------------------------------------------------------------\n",
      "\t|      default     |   6   |   0   |   0   |   0   ||   6   |   0   |\n",
      "\t---------------------------------------------------------------------\n",
      ":: retrieving :: org.apache.spark#spark-submit-parent-27327850-f273-488b-984b-071440eeff32\n",
      "\tconfs: [default]\n",
      "\t0 artifacts copied, 6 already retrieved (0kB/21ms)\n"
     ]
    },
    {
     "name": "stdout",
     "output_type": "stream",
     "text": [
      "22/10/15 23:32:07 WARN NativeCodeLoader: Unable to load native-hadoop library for your platform... using builtin-java classes where applicable\n"
     ]
    },
    {
     "name": "stderr",
     "output_type": "stream",
     "text": [
      "Setting default log level to \"WARN\".\n",
      "To adjust logging level use sc.setLogLevel(newLevel). For SparkR, use setLogLevel(newLevel).\n"
     ]
    }
   ],
   "source": [
    "spark = SparkSession.builder\\\n",
    "    .appName('autism-files')\\\n",
    "    .config(conf=conf)\\\n",
    "    .getOrCreate()"
   ]
  },
  {
   "cell_type": "code",
   "execution_count": 5,
   "id": "ca36710d",
   "metadata": {},
   "outputs": [],
   "source": [
    "execution_date = '27-05-2022'"
   ]
  },
  {
   "cell_type": "code",
   "execution_count": 6,
   "id": "f0421ccd",
   "metadata": {},
   "outputs": [
    {
     "name": "stdout",
     "output_type": "stream",
     "text": [
      "22/10/15 23:32:13 WARN MetricsConfig: Cannot locate configuration: tried hadoop-metrics2-s3a-file-system.properties,hadoop-metrics2.properties\n"
     ]
    },
    {
     "name": "stderr",
     "output_type": "stream",
     "text": [
      "                                                                                \r"
     ]
    }
   ],
   "source": [
    "df_xml = spark.read.format(\"com.databricks.spark.xml\")\\\n",
    "    .option(\"rootTag\", \"data\") \\\n",
    "    .option(\"rowTag\", \"row\") \\\n",
    "    .load(f\"s3a://projeto-pi-datalake-raw/{execution_date}-autismo_xml.xml\")"
   ]
  },
  {
   "cell_type": "code",
   "execution_count": 7,
   "id": "12e56148",
   "metadata": {},
   "outputs": [
    {
     "name": "stderr",
     "output_type": "stream",
     "text": [
      "                                                                                \r"
     ]
    }
   ],
   "source": [
    "df_json = (\n",
    "    spark.read.json(f\"s3a://projeto-pi-datalake-raw/{execution_date}-autismo_json.json\", multiLine=True)\n",
    ")"
   ]
  },
  {
   "cell_type": "code",
   "execution_count": 8,
   "id": "ace5d258",
   "metadata": {},
   "outputs": [],
   "source": [
    "df_csv = (\n",
    "    spark.read.csv(f\"s3a://projeto-pi-datalake-raw/{execution_date}-autismo_csv.csv\", header=True)\n",
    ")"
   ]
  },
  {
   "cell_type": "code",
   "execution_count": 9,
   "id": "155989a4",
   "metadata": {},
   "outputs": [
    {
     "name": "stdout",
     "output_type": "stream",
     "text": [
      "-RECORD 0--------------------------------------\n",
      " PIB_nacional                 | 8700000000000  \n",
      " PIB_percent_BR               | 13.9           \n",
      " PIB_regional                 | 15779110       \n",
      " area_regiao                  | 576736819      \n",
      " densidade_demografica_regiao | 36.06          \n",
      " gentilico_regiao             | nordestino     \n",
      " identificador                | 1              \n",
      " pais                         | Brasil         \n",
      " populacao_regiao             | 56560081       \n",
      " raca_predominante_regiao     | parda          \n",
      " regiao                       | Nordeste       \n",
      "-RECORD 1--------------------------------------\n",
      " PIB_nacional                 | 8700000000000  \n",
      " PIB_percent_BR               | 5.3            \n",
      " PIB_regional                 | 1195000000000  \n",
      " area_regiao                  | 3853676948     \n",
      " densidade_demografica_regiao | 4.12           \n",
      " gentilico_regiao             | nortista       \n",
      " identificador                | 2              \n",
      " pais                         | Brasil         \n",
      " populacao_regiao             | 18672591       \n",
      " raca_predominante_regiao     | parda          \n",
      " regiao                       | Norte          \n",
      "-RECORD 2--------------------------------------\n",
      " PIB_nacional                 | 8700000000000  \n",
      " PIB_percent_BR               | 9.4            \n",
      " PIB_regional                 | 542632000000   \n",
      " area_regiao                  | 1612000        \n",
      " densidade_demografica_regiao | 8.7            \n",
      " gentilico_regiao             | centro-oestino \n",
      " identificador                | 3              \n",
      " pais                         | Brasil         \n",
      " populacao_regiao             | 16090000       \n",
      " raca_predominante_regiao     | parda          \n",
      " regiao                       | Centro-Oeste   \n",
      "-RECORD 3--------------------------------------\n",
      " PIB_nacional                 | 8700000000000  \n",
      " PIB_percent_BR               | 55.9           \n",
      " PIB_regional                 | 3460000000000  \n",
      " area_regiao                  | 924620678      \n",
      " densidade_demografica_regiao | 96.94          \n",
      " gentilico_regiao             | sudestino      \n",
      " identificador                | 4              \n",
      " pais                         | Brasil         \n",
      " populacao_regiao             | 89632912       \n",
      " raca_predominante_regiao     | branca         \n",
      " regiao                       | Sudeste        \n",
      "-RECORD 4--------------------------------------\n",
      " PIB_nacional                 | 8700000000000  \n",
      " PIB_percent_BR               | 13.9           \n",
      " PIB_regional                 | 15779110       \n",
      " area_regiao                  | 576736819      \n",
      " densidade_demografica_regiao | 36.06          \n",
      " gentilico_regiao             | nordestino     \n",
      " identificador                | 5              \n",
      " pais                         | Brasil         \n",
      " populacao_regiao             | 56560081       \n",
      " raca_predominante_regiao     | parda          \n",
      " regiao                       | Nordeste       \n",
      "-RECORD 5--------------------------------------\n",
      " PIB_nacional                 | 8700000000000  \n",
      " PIB_percent_BR               | 55.9           \n",
      " PIB_regional                 | 3460000000000  \n",
      " area_regiao                  | 924620678      \n",
      " densidade_demografica_regiao | 96.94          \n",
      " gentilico_regiao             | sudestino      \n",
      " identificador                | 6              \n",
      " pais                         | Brasil         \n",
      " populacao_regiao             | 89632912       \n",
      " raca_predominante_regiao     | branca         \n",
      " regiao                       | Sudeste        \n",
      "-RECORD 6--------------------------------------\n",
      " PIB_nacional                 | 8700000000000  \n",
      " PIB_percent_BR               | 16.4           \n",
      " PIB_regional                 | 1195000000000  \n",
      " area_regiao                  | 576736819      \n",
      " densidade_demografica_regiao | 48.8           \n",
      " gentilico_regiao             | sulista        \n",
      " identificador                | 7              \n",
      " pais                         | Brasil         \n",
      " populacao_regiao             | 30192315       \n",
      " raca_predominante_regiao     | branca         \n",
      " regiao                       | Sul            \n",
      "-RECORD 7--------------------------------------\n",
      " PIB_nacional                 | 8700000000000  \n",
      " PIB_percent_BR               | 16.4           \n",
      " PIB_regional                 | 1195000000000  \n",
      " area_regiao                  | 576736819      \n",
      " densidade_demografica_regiao | 48.8           \n",
      " gentilico_regiao             | sulista        \n",
      " identificador                | 8              \n",
      " pais                         | Brasil         \n",
      " populacao_regiao             | 30192315       \n",
      " raca_predominante_regiao     | branca         \n",
      " regiao                       | Sul            \n",
      "-RECORD 8--------------------------------------\n",
      " PIB_nacional                 | 8700000000000  \n",
      " PIB_percent_BR               | 5.3            \n",
      " PIB_regional                 | 1195000000000  \n",
      " area_regiao                  | 3853676948     \n",
      " densidade_demografica_regiao | 4.12           \n",
      " gentilico_regiao             | nortista       \n",
      " identificador                | 9              \n",
      " pais                         | Brasil         \n",
      " populacao_regiao             | 18672591       \n",
      " raca_predominante_regiao     | parda          \n",
      " regiao                       | Norte          \n",
      "-RECORD 9--------------------------------------\n",
      " PIB_nacional                 | 8700000000000  \n",
      " PIB_percent_BR               | 5.3            \n",
      " PIB_regional                 | 1195000000000  \n",
      " area_regiao                  | 3853676948     \n",
      " densidade_demografica_regiao | 4.12           \n",
      " gentilico_regiao             | nortista       \n",
      " identificador                | 10             \n",
      " pais                         | Brasil         \n",
      " populacao_regiao             | 18672591       \n",
      " raca_predominante_regiao     | parda          \n",
      " regiao                       | Norte          \n",
      "-RECORD 10-------------------------------------\n",
      " PIB_nacional                 | 8700000000000  \n",
      " PIB_percent_BR               | 13.9           \n",
      " PIB_regional                 | 15779110       \n",
      " area_regiao                  | 576736819      \n",
      " densidade_demografica_regiao | 36.06          \n",
      " gentilico_regiao             | nordestino     \n",
      " identificador                | 11             \n",
      " pais                         | Brasil         \n",
      " populacao_regiao             | 56560081       \n",
      " raca_predominante_regiao     | parda          \n",
      " regiao                       | Nordeste       \n",
      "-RECORD 11-------------------------------------\n",
      " PIB_nacional                 | 8700000000000  \n",
      " PIB_percent_BR               | 13.9           \n",
      " PIB_regional                 | 15779110       \n",
      " area_regiao                  | 576736819      \n",
      " densidade_demografica_regiao | 36.06          \n",
      " gentilico_regiao             | nordestino     \n",
      " identificador                | 12             \n",
      " pais                         | Brasil         \n",
      " populacao_regiao             | 56560081       \n",
      " raca_predominante_regiao     | parda          \n",
      " regiao                       | Nordeste       \n",
      "-RECORD 12-------------------------------------\n",
      " PIB_nacional                 | 8700000000000  \n",
      " PIB_percent_BR               | 9.4            \n",
      " PIB_regional                 | 542632000000   \n",
      " area_regiao                  | 1612000        \n",
      " densidade_demografica_regiao | 8.7            \n",
      " gentilico_regiao             | centro-oestino \n",
      " identificador                | 13             \n",
      " pais                         | Brasil         \n",
      " populacao_regiao             | 16090000       \n",
      " raca_predominante_regiao     | parda          \n",
      " regiao                       | Centro-Oeste   \n",
      "-RECORD 13-------------------------------------\n",
      " PIB_nacional                 | 8700000000000  \n",
      " PIB_percent_BR               | 16.4           \n",
      " PIB_regional                 | 1195000000000  \n",
      " area_regiao                  | 576736819      \n",
      " densidade_demografica_regiao | 48.8           \n",
      " gentilico_regiao             | sulista        \n",
      " identificador                | 14             \n",
      " pais                         | Brasil         \n",
      " populacao_regiao             | 30192315       \n",
      " raca_predominante_regiao     | branca         \n",
      " regiao                       | Sul            \n",
      "-RECORD 14-------------------------------------\n",
      " PIB_nacional                 | 8700000000000  \n",
      " PIB_percent_BR               | 9.4            \n",
      " PIB_regional                 | 542632000000   \n",
      " area_regiao                  | 1612000        \n",
      " densidade_demografica_regiao | 8.7            \n",
      " gentilico_regiao             | centro-oestino \n",
      " identificador                | 15             \n",
      " pais                         | Brasil         \n",
      " populacao_regiao             | 16090000       \n",
      " raca_predominante_regiao     | parda          \n",
      " regiao                       | Centro-Oeste   \n",
      "-RECORD 15-------------------------------------\n",
      " PIB_nacional                 | 8700000000000  \n",
      " PIB_percent_BR               | 55.9           \n",
      " PIB_regional                 | 3460000000000  \n",
      " area_regiao                  | 924620678      \n",
      " densidade_demografica_regiao | 96.94          \n",
      " gentilico_regiao             | sudestino      \n",
      " identificador                | 16             \n",
      " pais                         | Brasil         \n",
      " populacao_regiao             | 89632912       \n",
      " raca_predominante_regiao     | branca         \n",
      " regiao                       | Sudeste        \n",
      "-RECORD 16-------------------------------------\n",
      " PIB_nacional                 | 8700000000000  \n",
      " PIB_percent_BR               | 55.9           \n",
      " PIB_regional                 | 3460000000000  \n",
      " area_regiao                  | 924620678      \n",
      " densidade_demografica_regiao | 96.94          \n",
      " gentilico_regiao             | sudestino      \n",
      " identificador                | 17             \n",
      " pais                         | Brasil         \n",
      " populacao_regiao             | 89632912       \n",
      " raca_predominante_regiao     | branca         \n",
      " regiao                       | Sudeste        \n",
      "-RECORD 17-------------------------------------\n",
      " PIB_nacional                 | 8700000000000  \n",
      " PIB_percent_BR               | 5.3            \n",
      " PIB_regional                 | 1195000000000  \n",
      " area_regiao                  | 3853676948     \n",
      " densidade_demografica_regiao | 4.12           \n",
      " gentilico_regiao             | nortista       \n",
      " identificador                | 18             \n",
      " pais                         | Brasil         \n",
      " populacao_regiao             | 18672591       \n",
      " raca_predominante_regiao     | parda          \n",
      " regiao                       | Norte          \n",
      "-RECORD 18-------------------------------------\n",
      " PIB_nacional                 | 8700000000000  \n",
      " PIB_percent_BR               | 16.4           \n",
      " PIB_regional                 | 1195000000000  \n",
      " area_regiao                  | 576736819      \n",
      " densidade_demografica_regiao | 48.8           \n",
      " gentilico_regiao             | sulista        \n",
      " identificador                | 19             \n",
      " pais                         | Brasil         \n",
      " populacao_regiao             | 30192315       \n",
      " raca_predominante_regiao     | branca         \n",
      " regiao                       | Sul            \n",
      "-RECORD 19-------------------------------------\n",
      " PIB_nacional                 | 8700000000000  \n",
      " PIB_percent_BR               | 13.9           \n",
      " PIB_regional                 | 15779110       \n",
      " area_regiao                  | 576736819      \n",
      " densidade_demografica_regiao | 36.06          \n",
      " gentilico_regiao             | nordestino     \n",
      " identificador                | 20             \n",
      " pais                         | Brasil         \n",
      " populacao_regiao             | 56560081       \n",
      " raca_predominante_regiao     | parda          \n",
      " regiao                       | Nordeste       \n",
      "only showing top 20 rows\n",
      "\n"
     ]
    }
   ],
   "source": [
    "df_xml.show(truncate=False, vertical=True)"
   ]
  },
  {
   "cell_type": "code",
   "execution_count": 10,
   "id": "dd08a156",
   "metadata": {},
   "outputs": [
    {
     "name": "stderr",
     "output_type": "stream",
     "text": [
      "                                                                                \r"
     ]
    },
    {
     "data": {
      "text/plain": [
       "Row(classe='E', classe-descricao='Baixa classe media', empregado=False, id_paciente=1, per_capita=311.0, quantidade_familia=6, total_salario=1866)"
      ]
     },
     "execution_count": 10,
     "metadata": {},
     "output_type": "execute_result"
    }
   ],
   "source": [
    "df_json.head()"
   ]
  },
  {
   "cell_type": "code",
   "execution_count": 11,
   "id": "5981ad0e",
   "metadata": {},
   "outputs": [
    {
     "data": {
      "text/plain": [
       "Row(id_paciente='1', idade_atual='28', idade_descoberta='14', genero='M', grau='moderado', sensibilidade_sentidos='False', agressivo='False', hiperativo='False', movimentos_repetitivos='False', baixa_concentracao='False', hiperfoco='False', necessidade_rotina='True', dificuldade_imaginacao='False', introvertido='False', tipo_autismo='Sindrome de Asperger', tipo_autismo_descricao='TEA é agora o termo genérico para o grupo de transtornos de neurodesenvolvimento complexos que constituem o autismo. Os sintomas do autismo costumam estar presentes desde a primeira infância e podem afetar o funcionamento diário. Os sintomas do TEA geralmente aparecem nos primeiros 2 anos de vida.')"
      ]
     },
     "execution_count": 11,
     "metadata": {},
     "output_type": "execute_result"
    }
   ],
   "source": [
    "df_csv.head()"
   ]
  },
  {
   "cell_type": "code",
   "execution_count": 12,
   "id": "d512137a",
   "metadata": {},
   "outputs": [],
   "source": [
    "df_joined = (\n",
    "    df_csv\n",
    "        .join(df_json, 'id_paciente')\n",
    "        .join(df_xml, df_csv.id_paciente == df_xml.identificador)\n",
    "        .withColumn('year', f.lit(int(execution_date[6:11]))) # 2022\n",
    "        .withColumn('month', f.lit(int(execution_date[3:5]))) # 05\n",
    "        .withColumn('day', f.lit(int(execution_date[0:2])))   # 27\n",
    "        .withColumn('id_paciente', f.expr(f\"hex(aes_encrypt(id_paciente, '{secret}'))\"))\n",
    "        .withColumn('genero', f.expr(f\"hex(aes_encrypt(genero, '{secret}'))\"))\n",
    "        .withColumn('regiao',  f.expr(f\"hex(aes_encrypt(genero, '{secret}'))\"))\n",
    "        .drop('identificador')\n",
    ")"
   ]
  },
  {
   "cell_type": "code",
   "execution_count": 13,
   "id": "f50c343f",
   "metadata": {},
   "outputs": [
    {
     "name": "stderr",
     "output_type": "stream",
     "text": [
      "                                                                                \r"
     ]
    },
    {
     "data": {
      "text/plain": [
       "Row(id_paciente='D2641FE662F883B97AD3E65CC0575897A5F3B48843E2D67BB4623A58F0C9')"
      ]
     },
     "execution_count": 13,
     "metadata": {},
     "output_type": "execute_result"
    }
   ],
   "source": [
    "df_joined.select('id_paciente').head()"
   ]
  },
  {
   "cell_type": "code",
   "execution_count": 14,
   "id": "ac3b5b38",
   "metadata": {},
   "outputs": [
    {
     "name": "stdout",
     "output_type": "stream",
     "text": [
      "root\n",
      " |-- id_paciente: string (nullable = true)\n",
      " |-- idade_atual: string (nullable = true)\n",
      " |-- idade_descoberta: string (nullable = true)\n",
      " |-- genero: string (nullable = true)\n",
      " |-- grau: string (nullable = true)\n",
      " |-- sensibilidade_sentidos: string (nullable = true)\n",
      " |-- agressivo: string (nullable = true)\n",
      " |-- hiperativo: string (nullable = true)\n",
      " |-- movimentos_repetitivos: string (nullable = true)\n",
      " |-- baixa_concentracao: string (nullable = true)\n",
      " |-- hiperfoco: string (nullable = true)\n",
      " |-- necessidade_rotina: string (nullable = true)\n",
      " |-- dificuldade_imaginacao: string (nullable = true)\n",
      " |-- introvertido: string (nullable = true)\n",
      " |-- tipo_autismo: string (nullable = true)\n",
      " |-- tipo_autismo_descricao: string (nullable = true)\n",
      " |-- classe: string (nullable = true)\n",
      " |-- classe-descricao: string (nullable = true)\n",
      " |-- empregado: boolean (nullable = true)\n",
      " |-- per_capita: double (nullable = true)\n",
      " |-- quantidade_familia: long (nullable = true)\n",
      " |-- total_salario: long (nullable = true)\n",
      " |-- PIB_nacional: long (nullable = true)\n",
      " |-- PIB_percent_BR: double (nullable = true)\n",
      " |-- PIB_regional: long (nullable = true)\n",
      " |-- area_regiao: long (nullable = true)\n",
      " |-- densidade_demografica_regiao: double (nullable = true)\n",
      " |-- gentilico_regiao: string (nullable = true)\n",
      " |-- pais: string (nullable = true)\n",
      " |-- populacao_regiao: long (nullable = true)\n",
      " |-- raca_predominante_regiao: string (nullable = true)\n",
      " |-- regiao: string (nullable = true)\n",
      " |-- year: integer (nullable = false)\n",
      " |-- month: integer (nullable = false)\n",
      " |-- day: integer (nullable = false)\n",
      "\n"
     ]
    }
   ],
   "source": [
    "df_joined.printSchema()"
   ]
  },
  {
   "cell_type": "code",
   "execution_count": 15,
   "id": "af7c67bd",
   "metadata": {},
   "outputs": [
    {
     "name": "stdout",
     "output_type": "stream",
     "text": [
      "22/10/15 23:33:08 WARN package: Truncated the string representation of a plan since it was too large. This behavior can be adjusted by setting 'spark.sql.debug.maxToStringFields'.\n"
     ]
    },
    {
     "name": "stderr",
     "output_type": "stream",
     "text": [
      "                                                                                \r"
     ]
    }
   ],
   "source": [
    "df_joined.write.mode('overwrite')\\\n",
    "    .partitionBy('year', 'month', 'day').parquet('s3a://projeto-pi-datalake-trusted/autism-region')"
   ]
  },
  {
   "cell_type": "code",
   "execution_count": 16,
   "id": "5b16a3f7",
   "metadata": {},
   "outputs": [],
   "source": [
    "spark.sparkContext.stop()"
   ]
  },
  {
   "cell_type": "code",
   "execution_count": 17,
   "id": "5ebfb568",
   "metadata": {},
   "outputs": [],
   "source": [
    "spark.stop()"
   ]
  }
 ],
 "metadata": {
  "kernelspec": {
   "display_name": "Python 3 (ipykernel)",
   "language": "python",
   "name": "python3"
  },
  "language_info": {
   "codemirror_mode": {
    "name": "ipython",
    "version": 3
   },
   "file_extension": ".py",
   "mimetype": "text/x-python",
   "name": "python",
   "nbconvert_exporter": "python",
   "pygments_lexer": "ipython3",
   "version": "3.7.10"
  }
 },
 "nbformat": 4,
 "nbformat_minor": 5
}
